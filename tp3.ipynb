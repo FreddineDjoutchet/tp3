{
 "cells": [
  {
   "cell_type": "markdown",
   "id": "b0e26f5b-a725-4e1c-a2de-af919bf95371",
   "metadata": {},
   "source": [
    "##### Clustering des billetins de l'année 1960"
   ]
  },
  {
   "cell_type": "code",
   "execution_count": 63,
   "id": "4483d03b-2edd-47ee-bb6d-103dfe21ba50",
   "metadata": {},
   "outputs": [],
   "source": [
    "import requests"
   ]
  },
  {
   "cell_type": "code",
   "execution_count": 64,
   "id": "40dbcdd7-b535-4182-a07a-7935a425e80f",
   "metadata": {},
   "outputs": [],
   "source": [
    "import collections\n",
    "import os\n",
    "import string\n",
    "import sys\n",
    "\n",
    "import pandas as pd\n",
    "from nltk import word_tokenize\n",
    "from nltk.corpus import stopwords\n",
    "from pprint import pprint\n",
    "from sklearn.cluster import KMeans\n",
    "from sklearn.feature_extraction.text import TfidfVectorizer\n",
    "from sklearn.decomposition import PCA\n",
    "import numpy as np\n",
    "import matplotlib.pyplot as plt\n",
    "from scipy.spatial.distance import cosine"
   ]
  },
  {
   "cell_type": "code",
   "execution_count": 65,
   "id": "a6bb52bc-dd16-4c7c-b1a4-17846481323c",
   "metadata": {},
   "outputs": [
    {
     "name": "stderr",
     "output_type": "stream",
     "text": [
      "[nltk_data] Downloading package punkt to /root/nltk_data...\n",
      "[nltk_data]   Package punkt is already up-to-date!\n"
     ]
    },
    {
     "data": {
      "text/plain": [
       "True"
      ]
     },
     "execution_count": 65,
     "metadata": {},
     "output_type": "execute_result"
    }
   ],
   "source": [
    "import nltk\n",
    "\n",
    "nltk.download('punkt')"
   ]
  },
  {
   "cell_type": "code",
   "execution_count": 66,
   "id": "2b6a64ae-90fa-4774-8cbc-89e394818d0a",
   "metadata": {},
   "outputs": [],
   "source": [
    "data_path = \"../data/txt/\""
   ]
  },
  {
   "cell_type": "code",
   "execution_count": 67,
   "id": "59f8b080-4095-42fd-aa20-c926590f8f2b",
   "metadata": {},
   "outputs": [],
   "source": [
    "DECADE = '1960'"
   ]
  },
  {
   "cell_type": "code",
   "execution_count": 68,
   "id": "8f1ad467-c37b-4e42-931e-7ba1a816a68f",
   "metadata": {},
   "outputs": [],
   "source": [
    "files = [f for f in sorted(os.listdir(data_path)) if f\"_{DECADE[:-1]}\" in f]"
   ]
  },
  {
   "cell_type": "code",
   "execution_count": 69,
   "id": "78eb3e31-af37-4699-b476-cb4ccb0eec55",
   "metadata": {},
   "outputs": [
    {
     "data": {
      "text/plain": [
       "['Bxl_1960_Tome_II1_Part_1.txt',\n",
       " 'Bxl_1960_Tome_II1_Part_2.txt',\n",
       " 'Bxl_1960_Tome_II1_Part_3.txt',\n",
       " 'Bxl_1960_Tome_II1_Part_4.txt',\n",
       " 'Bxl_1960_Tome_II1_Part_5.txt',\n",
       " 'Bxl_1960_Tome_II1_Part_6.txt',\n",
       " 'Bxl_1960_Tome_II1_Part_7.txt',\n",
       " 'Bxl_1960_Tome_II1_Part_8.txt',\n",
       " 'Bxl_1960_Tome_II2_Part_1.txt',\n",
       " 'Bxl_1960_Tome_II2_Part_2.txt',\n",
       " 'Bxl_1960_Tome_II2_Part_3.txt',\n",
       " 'Bxl_1960_Tome_II2_Part_4.txt',\n",
       " 'Bxl_1960_Tome_II2_Part_5.txt',\n",
       " 'Bxl_1960_Tome_II2_Part_6.txt',\n",
       " 'Bxl_1960_Tome_II2_Part_7.txt',\n",
       " 'Bxl_1960_Tome_II2_Part_8.txt',\n",
       " 'Bxl_1960_Tome_II2_Part_9.txt',\n",
       " 'Bxl_1960_Tome_I_Part_1.txt',\n",
       " 'Bxl_1960_Tome_I_Part_10.txt',\n",
       " 'Bxl_1960_Tome_I_Part_11.txt']"
      ]
     },
     "execution_count": 69,
     "metadata": {},
     "output_type": "execute_result"
    }
   ],
   "source": [
    "files[:20]"
   ]
  },
  {
   "cell_type": "code",
   "execution_count": 70,
   "id": "5962e4bb-4b73-490b-9123-cb02417b7956",
   "metadata": {},
   "outputs": [],
   "source": [
    "texts = [open(data_path + f).read() for f in files]"
   ]
  },
  {
   "cell_type": "code",
   "execution_count": 71,
   "id": "1c1423bd-3c31-45f2-9e88-ec119d7c6091",
   "metadata": {},
   "outputs": [
    {
     "data": {
      "text/plain": [
       "'PUBLICATION\\n\\nPERIODIQUE\\n\\nVILLE DE BRUXELLES\\n\\nAnnée 1960\\n\\nBULLETIN\\nCOMMUNAL\\nTOME II \"\\n_u\\n\\nImpr. H . 6 M . S C H A U M A N S\\nSociété\\n\\nAnonyme\\n\\nParvis Saint-Gilles, 41\\nBruxelles\\n1960\\n\\n\\x0c\\x0cN\" 14\\n\\nCOMPTE\\n\\nR E N D U D E L A S E A N C E D U 1\"\\' A O U T\\n\\nVILLE\\n\\nDE\\n\\n1960\\n\\nBRUXELLES\\n\\nBULLETIN\\n\\nCOMMUNAL\\n\\n(Publication\\n\\npériodique)\\n\\nA n n é e 1960\\n\\nCONSEIL\\n\\nS é a n c e du\\n\\nPRESIDENCE\\n\\nCOMMUNAL\\n\\n1\\n\\ner\\n\\naoût\\n\\nDE M .\\n\\n1960.\\n\\nCOOREMANS,\\n\\nBourgmestre.\\n\\nSOMMAIRE :\\nPages\\n1.\\n\\n2.\\n\\n3.\\n\\n4.\\n\\nEvénements tragiques du Congo. — Vote d\\'un crédit extraordinaire en faveur des rapatriéa du Congo . . . . . .\\n\\n5\\n\\nSports. — Avant-'"
      ]
     },
     "execution_count": 71,
     "metadata": {},
     "output_type": "execute_result"
    }
   ],
   "source": [
    "# Exemple de textes\n",
    "texts[0][:600]"
   ]
  },
  {
   "cell_type": "code",
   "execution_count": 72,
   "id": "190e3a08-7897-4b55-8f12-b693a93a4d4a",
   "metadata": {},
   "outputs": [],
   "source": [
    "def preprocessing(text, stem=True):\n",
    "    \"\"\" Tokenize text and remove punctuation \"\"\"\n",
    "    text = text.translate(string.punctuation)\n",
    "    tokens = word_tokenize(text)\n",
    "    return tokens"
   ]
  },
  {
   "cell_type": "code",
   "execution_count": 73,
   "id": "9169efcb-2db2-4e40-96fc-b8a021f5f4e9",
   "metadata": {},
   "outputs": [],
   "source": [
    "vectorizer = TfidfVectorizer(\n",
    "    tokenizer=preprocessing,\n",
    "    stop_words=stopwords.words('french'),\n",
    "    max_df=0.5,\n",
    "    min_df=0.1,\n",
    "    lowercase=True)"
   ]
  },
  {
   "cell_type": "code",
   "execution_count": 74,
   "id": "8b1d4ed1-abc7-4aa6-a431-56d23d6b18c0",
   "metadata": {},
   "outputs": [
    {
     "name": "stdout",
     "output_type": "stream",
     "text": [
      "CPU times: user 1min 17s, sys: 3.4 s, total: 1min 21s\n",
      "Wall time: 1min 21s\n"
     ]
    }
   ],
   "source": [
    "%time tfidf_vectors = vectorizer.fit_transform(texts)"
   ]
  },
  {
   "cell_type": "code",
   "execution_count": 75,
   "id": "bb2bfe43-32ab-462d-9aeb-176e3687f012",
   "metadata": {},
   "outputs": [
    {
     "data": {
      "text/plain": [
       "<420x6466 sparse matrix of type '<class 'numpy.float64'>'\n",
       "\twith 574279 stored elements in Compressed Sparse Row format>"
      ]
     },
     "execution_count": 75,
     "metadata": {},
     "output_type": "execute_result"
    }
   ],
   "source": [
    "tfidf_vectors"
   ]
  },
  {
   "cell_type": "code",
   "execution_count": 76,
   "id": "1c044b19-278c-41d1-9a9b-ee26ebc86518",
   "metadata": {},
   "outputs": [
    {
     "data": {
      "text/plain": [
       "+considérant    0.300647\n",
       "fer             0.228639\n",
       "curage          0.207466\n",
       "dma             0.153796\n",
       "art             0.147675\n",
       "                  ...   \n",
       "engagé          0.000000\n",
       "engager         0.000000\n",
       "engagements     0.000000\n",
       "engage          0.000000\n",
       "™               0.000000\n",
       "Length: 6466, dtype: float64"
      ]
     },
     "execution_count": 76,
     "metadata": {},
     "output_type": "execute_result"
    }
   ],
   "source": [
    "pd.Series(\n",
    "    tfidf_vectors[0].toarray()[0],\n",
    "    index=vectorizer.get_feature_names_out()\n",
    "    ).sort_values(ascending=False)"
   ]
  },
  {
   "cell_type": "code",
   "execution_count": 77,
   "id": "da6a89d2-36a9-4c06-a697-ea5c6daeb13f",
   "metadata": {},
   "outputs": [
    {
     "data": {
      "text/plain": [
       "0"
      ]
     },
     "execution_count": 77,
     "metadata": {},
     "output_type": "execute_result"
    }
   ],
   "source": [
    "cosine([1, 2, 3], [1, 2, 3])"
   ]
  },
  {
   "cell_type": "code",
   "execution_count": 78,
   "id": "53adfae5-99f2-4698-ab9c-207011db0e49",
   "metadata": {},
   "outputs": [
    {
     "data": {
      "text/plain": [
       "0.02004211298777725"
      ]
     },
     "execution_count": 78,
     "metadata": {},
     "output_type": "execute_result"
    }
   ],
   "source": [
    "cosine([1, 2, 3], [1, 2, 2])"
   ]
  },
  {
   "cell_type": "code",
   "execution_count": 79,
   "id": "599c65df-6b5e-467c-b387-62f8fe548999",
   "metadata": {},
   "outputs": [
    {
     "data": {
      "text/plain": [
       "0.07417990022744858"
      ]
     },
     "execution_count": 79,
     "metadata": {},
     "output_type": "execute_result"
    }
   ],
   "source": [
    "cosine([1, 2, 3], [2, 2, 2])"
   ]
  },
  {
   "cell_type": "code",
   "execution_count": 80,
   "id": "85f39d07-12f3-4f59-b589-61fb3f627fe6",
   "metadata": {},
   "outputs": [],
   "source": [
    "tfidf_array = tfidf_vectors.toarray()"
   ]
  },
  {
   "cell_type": "code",
   "execution_count": 81,
   "id": "07fab3d9-1540-4664-af29-20a0da8c0c77",
   "metadata": {},
   "outputs": [
    {
     "data": {
      "text/plain": [
       "array([0.        , 0.        , 0.02359086, ..., 0.01398357, 0.00888238,\n",
       "       0.        ])"
      ]
     },
     "execution_count": 81,
     "metadata": {},
     "output_type": "execute_result"
    }
   ],
   "source": [
    "tfidf_array[0]"
   ]
  },
  {
   "cell_type": "code",
   "execution_count": 82,
   "id": "c77d9467-70df-4573-8cb3-7b8c46233356",
   "metadata": {},
   "outputs": [
    {
     "data": {
      "text/plain": [
       "array([0.        , 0.        , 0.00633553, ..., 0.01408279, 0.        ,\n",
       "       0.        ])"
      ]
     },
     "execution_count": 82,
     "metadata": {},
     "output_type": "execute_result"
    }
   ],
   "source": [
    "tfidf_array[1]"
   ]
  },
  {
   "cell_type": "code",
   "execution_count": 83,
   "id": "ab72505e-1c43-473c-ac08-b08b029081b9",
   "metadata": {},
   "outputs": [
    {
     "data": {
      "text/plain": [
       "0.45731736240865606"
      ]
     },
     "execution_count": 83,
     "metadata": {},
     "output_type": "execute_result"
    }
   ],
   "source": [
    "cosine(tfidf_array[0], tfidf_array[1])"
   ]
  },
  {
   "cell_type": "code",
   "execution_count": 84,
   "id": "76d17e87-6657-415c-9967-2fcf1d7120d4",
   "metadata": {},
   "outputs": [],
   "source": [
    "N_CLUSTERS = 15"
   ]
  },
  {
   "cell_type": "code",
   "execution_count": 85,
   "id": "d2ae1d8d-20e1-44e0-ac73-ffb20a5f6659",
   "metadata": {},
   "outputs": [],
   "source": [
    "km_model = KMeans(n_clusters=N_CLUSTERS)"
   ]
  },
  {
   "cell_type": "code",
   "execution_count": 86,
   "id": "4f485837-14be-42cd-b17d-64228032dbce",
   "metadata": {},
   "outputs": [],
   "source": [
    "clusters = km_model.fit_predict(tfidf_vectors)"
   ]
  },
  {
   "cell_type": "code",
   "execution_count": 87,
   "id": "76f3246a-5ada-4246-bc72-3156805c2692",
   "metadata": {},
   "outputs": [],
   "source": [
    "clustering = collections.defaultdict(list)\n",
    "\n",
    "for idx, label in enumerate(clusters):\n",
    "    clustering[label].append(files[idx])"
   ]
  },
  {
   "cell_type": "code",
   "execution_count": 88,
   "id": "ee26c232-39ff-4d97-9d38-8981e3addb07",
   "metadata": {},
   "outputs": [
    {
     "name": "stdout",
     "output_type": "stream",
     "text": [
      "{0: ['Bxl_1960_Tome_II1_Part_3.txt',\n",
      "     'Bxl_1960_Tome_II2_Part_6.txt',\n",
      "     'Bxl_1963_Tome_II2_Part_9.txt',\n",
      "     'Bxl_1963_Tome_RptAn_Part_2.txt',\n",
      "     'Bxl_1963_Tome_RptAn_Part_8.txt',\n",
      "     'Bxl_1964_Tome_II1_Part_11.txt',\n",
      "     'Bxl_1964_Tome_II1_Part_4.txt',\n",
      "     'Bxl_1964_Tome_II1_Part_5.txt',\n",
      "     'Bxl_1964_Tome_II1_Part_7.txt',\n",
      "     'Bxl_1964_Tome_II2_Part_6.txt',\n",
      "     'Bxl_1964_Tome_II2_Part_8.txt',\n",
      "     'Bxl_1964_Tome_I_Part_11.txt',\n",
      "     'Bxl_1964_Tome_I_Part_12.txt',\n",
      "     'Bxl_1964_Tome_I_Part_4.txt',\n",
      "     'Bxl_1965_Tome_II1_Part_1.txt',\n",
      "     'Bxl_1965_Tome_II1_Part_4.txt',\n",
      "     'Bxl_1965_Tome_II1_Part_7.txt',\n",
      "     'Bxl_1965_Tome_II1_Part_9.txt',\n",
      "     'Bxl_1965_Tome_II2_Part_12.txt',\n",
      "     'Bxl_1965_Tome_I_Part_1.txt',\n",
      "     'Bxl_1965_Tome_I_Part_12.txt',\n",
      "     'Bxl_1965_Tome_I_Part_2.txt',\n",
      "     'Bxl_1965_Tome_I_Part_3.txt',\n",
      "     'Bxl_1965_Tome_I_Part_4.txt',\n",
      "     'Bxl_1965_Tome_I_Part_6.txt',\n",
      "     'Bxl_1966_Tome_I1_Part_5.txt',\n",
      "     'Bxl_1966_Tome_I1_Part_7.txt',\n",
      "     'Bxl_1966_Tome_I2_Part_6.txt',\n",
      "     'Bxl_1966_Tome_II1_Part_11.txt',\n",
      "     'Bxl_1966_Tome_II2_Part_10.txt',\n",
      "     'Bxl_1966_Tome_II2_Part_3.txt',\n",
      "     'Bxl_1966_Tome_II2_Part_7.txt',\n",
      "     'Bxl_1966_Tome_II2_Part_9.txt',\n",
      "     'Bxl_1967_Tome_I1_Part_1.txt',\n",
      "     'Bxl_1967_Tome_I1_Part_11.txt',\n",
      "     'Bxl_1967_Tome_I1_Part_3.txt',\n",
      "     'Bxl_1967_Tome_I1_Part_4.txt',\n",
      "     'Bxl_1967_Tome_I2_Part_2.txt',\n",
      "     'Bxl_1967_Tome_I2_Part_8.txt',\n",
      "     'Bxl_1967_Tome_I2_Part_9.txt',\n",
      "     'Bxl_1967_Tome_II1_Part_1.txt',\n",
      "     'Bxl_1967_Tome_II1_Part_4.txt',\n",
      "     'Bxl_1967_Tome_II1_Part_5.txt',\n",
      "     'Bxl_1967_Tome_II1_Part_6.txt',\n",
      "     'Bxl_1967_Tome_II1_Part_8.txt',\n",
      "     'Bxl_1967_Tome_II2_Part_10.txt',\n",
      "     'Bxl_1967_Tome_II2_Part_11.txt',\n",
      "     'Bxl_1967_Tome_II2_Part_3.txt',\n",
      "     'Bxl_1967_Tome_II2_Part_4.txt',\n",
      "     'Bxl_1967_Tome_II2_Part_7.txt',\n",
      "     'Bxl_1967_Tome_II2_Part_9.txt',\n",
      "     'Bxl_1968_Tome_I1_Part_1.txt',\n",
      "     'Bxl_1968_Tome_I1_Part_2.txt',\n",
      "     'Bxl_1968_Tome_I1_Part_9.txt',\n",
      "     'Bxl_1968_Tome_II1_Part_5.txt',\n",
      "     'Bxl_1968_Tome_II1_Part_6.txt',\n",
      "     'Bxl_1968_Tome_II1_Part_7.txt',\n",
      "     'Bxl_1968_Tome_II2_Part_1.txt',\n",
      "     'Bxl_1968_Tome_II2_Part_10.txt',\n",
      "     'Bxl_1968_Tome_II2_Part_13.txt',\n",
      "     'Bxl_1968_Tome_II2_Part_5.txt',\n",
      "     'Bxl_1968_Tome_II2_Part_6.txt',\n",
      "     'Bxl_1968_Tome_II2_Part_7.txt',\n",
      "     'Bxl_1969_Tome_I2_Part_3.txt',\n",
      "     'Bxl_1969_Tome_II2_Part_14.txt'],\n",
      " 1: ['Bxl_1960_Tome_II2_Part_7.txt',\n",
      "     'Bxl_1960_Tome_II2_Part_8.txt',\n",
      "     'Bxl_1960_Tome_II2_Part_9.txt',\n",
      "     'Bxl_1960_Tome_I_Part_12.txt',\n",
      "     'Bxl_1960_Tome_I_Part_13.txt',\n",
      "     'Bxl_1961_Tome_II2_Part_7.txt',\n",
      "     'Bxl_1961_Tome_II2_Part_8.txt',\n",
      "     'Bxl_1961_Tome_I_Part_11.txt',\n",
      "     'Bxl_1961_Tome_I_Part_12.txt',\n",
      "     'Bxl_1962_Tome_II2_Part_8.txt',\n",
      "     'Bxl_1962_Tome_II2_Part_9.txt',\n",
      "     'Bxl_1962_Tome_I_Part_12.txt',\n",
      "     'Bxl_1962_Tome_I_Part_13.txt',\n",
      "     'Bxl_1963_Tome_II2_Part_11.txt',\n",
      "     'Bxl_1963_Tome_II2_Part_12.txt',\n",
      "     'Bxl_1963_Tome_I_Part_12.txt',\n",
      "     'Bxl_1963_Tome_I_Part_13.txt',\n",
      "     'Bxl_1964_Tome_II2_Part_10.txt',\n",
      "     'Bxl_1964_Tome_II2_Part_11.txt',\n",
      "     'Bxl_1964_Tome_I_Part_14.txt',\n",
      "     'Bxl_1965_Tome_II2_Part_13.txt',\n",
      "     'Bxl_1965_Tome_II2_Part_14.txt',\n",
      "     'Bxl_1965_Tome_I_Part_13.txt',\n",
      "     'Bxl_1965_Tome_I_Part_14.txt',\n",
      "     'Bxl_1966_Tome_I2_Part_10.txt',\n",
      "     'Bxl_1966_Tome_I2_Part_11.txt',\n",
      "     'Bxl_1966_Tome_II2_Part_13.txt',\n",
      "     'Bxl_1966_Tome_II2_Part_14.txt'],\n",
      " 2: ['Bxl_1960_Tome_II1_Part_6.txt',\n",
      "     'Bxl_1960_Tome_II2_Part_1.txt',\n",
      "     'Bxl_1960_Tome_II2_Part_2.txt',\n",
      "     'Bxl_1961_Tome_II2_Part_1.txt',\n",
      "     'Bxl_1961_Tome_II2_Part_2.txt',\n",
      "     'Bxl_1961_Tome_II2_Part_3.txt',\n",
      "     'Bxl_1961_Tome_II2_Part_4.txt',\n",
      "     'Bxl_1962_Tome_II2_Part_2.txt',\n",
      "     'Bxl_1962_Tome_II2_Part_3.txt',\n",
      "     'Bxl_1962_Tome_II2_Part_4.txt',\n",
      "     'Bxl_1962_Tome_II2_Part_5.txt',\n",
      "     'Bxl_1962_Tome_I_Part_8.txt',\n",
      "     'Bxl_1963_Tome_II1_Part_1.txt',\n",
      "     'Bxl_1963_Tome_II2_Part_6.txt',\n",
      "     'Bxl_1963_Tome_II2_Part_7.txt',\n",
      "     'Bxl_1964_Tome_II2_Part_4.txt',\n",
      "     'Bxl_1964_Tome_II2_Part_5.txt',\n",
      "     'Bxl_1965_Tome_II2_Part_6.txt',\n",
      "     'Bxl_1966_Tome_II2_Part_4.txt'],\n",
      " 3: ['Bxl_1960_Tome_II1_Part_5.txt',\n",
      "     'Bxl_1960_Tome_II1_Part_8.txt',\n",
      "     'Bxl_1960_Tome_II2_Part_3.txt',\n",
      "     'Bxl_1960_Tome_II2_Part_4.txt',\n",
      "     'Bxl_1960_Tome_II2_Part_5.txt',\n",
      "     'Bxl_1960_Tome_I_Part_1.txt',\n",
      "     'Bxl_1960_Tome_I_Part_10.txt',\n",
      "     'Bxl_1960_Tome_I_Part_11.txt',\n",
      "     'Bxl_1960_Tome_I_Part_3.txt',\n",
      "     'Bxl_1960_Tome_I_Part_4.txt',\n",
      "     'Bxl_1960_Tome_I_Part_5.txt',\n",
      "     'Bxl_1960_Tome_I_Part_6.txt',\n",
      "     'Bxl_1960_Tome_I_Part_8.txt',\n",
      "     'Bxl_1960_Tome_I_Part_9.txt',\n",
      "     'Bxl_1961_Tome_II1_Part_4.txt',\n",
      "     'Bxl_1961_Tome_II1_Part_6.txt',\n",
      "     'Bxl_1961_Tome_II1_Part_8.txt',\n",
      "     'Bxl_1961_Tome_II2_Part_5.txt',\n",
      "     'Bxl_1961_Tome_II2_Part_6.txt',\n",
      "     'Bxl_1961_Tome_I_Part_2.txt',\n",
      "     'Bxl_1961_Tome_I_Part_3.txt',\n",
      "     'Bxl_1961_Tome_I_Part_4.txt',\n",
      "     'Bxl_1961_Tome_I_Part_5.txt',\n",
      "     'Bxl_1961_Tome_I_Part_6.txt',\n",
      "     'Bxl_1961_Tome_I_Part_7.txt',\n",
      "     'Bxl_1961_Tome_I_Part_9.txt',\n",
      "     'Bxl_1962_Tome_II1_Part_1.txt',\n",
      "     'Bxl_1962_Tome_II1_Part_4.txt',\n",
      "     'Bxl_1962_Tome_II1_Part_9.txt',\n",
      "     'Bxl_1962_Tome_II2_Part_6.txt',\n",
      "     'Bxl_1962_Tome_I_Part_1.txt',\n",
      "     'Bxl_1962_Tome_I_Part_11.txt',\n",
      "     'Bxl_1962_Tome_I_Part_3.txt',\n",
      "     'Bxl_1962_Tome_I_Part_4.txt',\n",
      "     'Bxl_1962_Tome_I_Part_5.txt',\n",
      "     'Bxl_1962_Tome_I_Part_6.txt',\n",
      "     'Bxl_1962_Tome_I_Part_7.txt',\n",
      "     'Bxl_1963_Tome_II1_Part_7.txt',\n",
      "     'Bxl_1963_Tome_II2_Part_1.txt',\n",
      "     'Bxl_1963_Tome_I_Part_1.txt',\n",
      "     'Bxl_1963_Tome_I_Part_10.txt',\n",
      "     'Bxl_1963_Tome_I_Part_11.txt',\n",
      "     'Bxl_1963_Tome_I_Part_4.txt',\n",
      "     'Bxl_1963_Tome_I_Part_5.txt',\n",
      "     'Bxl_1963_Tome_I_Part_6.txt',\n",
      "     'Bxl_1963_Tome_I_Part_7.txt',\n",
      "     'Bxl_1964_Tome_I_Part_2.txt',\n",
      "     'Bxl_1964_Tome_I_Part_6.txt',\n",
      "     'Bxl_1964_Tome_I_Part_7.txt',\n",
      "     'Bxl_1964_Tome_I_Part_8.txt'],\n",
      " 4: ['Bxl_1963_Tome_II2_Part_2.txt',\n",
      "     'Bxl_1963_Tome_II2_Part_3.txt',\n",
      "     'Bxl_1963_Tome_II2_Part_4.txt',\n",
      "     'Bxl_1963_Tome_II2_Part_5.txt',\n",
      "     'Bxl_1964_Tome_II1_Part_8.txt',\n",
      "     'Bxl_1964_Tome_II1_Part_9.txt',\n",
      "     'Bxl_1964_Tome_II2_Part_1.txt',\n",
      "     'Bxl_1964_Tome_II2_Part_2.txt',\n",
      "     'Bxl_1964_Tome_II2_Part_3.txt',\n",
      "     'Bxl_1965_Tome_II1_Part_2.txt',\n",
      "     'Bxl_1965_Tome_II1_Part_5.txt',\n",
      "     'Bxl_1965_Tome_II2_Part_5.txt',\n",
      "     'Bxl_1965_Tome_II2_Part_7.txt',\n",
      "     'Bxl_1965_Tome_II2_Part_8.txt',\n",
      "     'Bxl_1965_Tome_I_Part_7.txt',\n",
      "     'Bxl_1965_Tome_I_Part_8.txt',\n",
      "     'Bxl_1965_Tome_I_Part_9.txt',\n",
      "     'Bxl_1965_Tome_RptAn_Part_4.txt',\n",
      "     'Bxl_1965_Tome_RptAn_Part_5.txt',\n",
      "     'Bxl_1965_Tome_RptAn_Part_6.txt',\n",
      "     'Bxl_1965_Tome_RptAn_Part_7.txt',\n",
      "     'Bxl_1966_Tome_I2_Part_1.txt',\n",
      "     'Bxl_1966_Tome_I2_Part_2.txt',\n",
      "     'Bxl_1966_Tome_I2_Part_3.txt',\n",
      "     'Bxl_1966_Tome_I2_Part_5.txt',\n",
      "     'Bxl_1966_Tome_II1_Part_1.txt',\n",
      "     'Bxl_1966_Tome_II1_Part_2.txt',\n",
      "     'Bxl_1966_Tome_II1_Part_8.txt',\n",
      "     'Bxl_1966_Tome_II2_Part_5.txt',\n",
      "     'Bxl_1966_Tome_RptAn_Part_4.txt',\n",
      "     'Bxl_1966_Tome_RptAn_Part_5.txt',\n",
      "     'Bxl_1966_Tome_RptAn_Part_6.txt',\n",
      "     'Bxl_1967_Tome_I1_Part_2.txt',\n",
      "     'Bxl_1967_Tome_II1_Part_2.txt',\n",
      "     'Bxl_1967_Tome_II1_Part_3.txt',\n",
      "     'Bxl_1967_Tome_II2_Part_5.txt',\n",
      "     'Bxl_1967_Tome_II2_Part_6.txt',\n",
      "     'Bxl_1968_Tome_I1_Part_4.txt',\n",
      "     'Bxl_1968_Tome_II1_Part_1.txt',\n",
      "     'Bxl_1968_Tome_II2_Part_11.txt',\n",
      "     'Bxl_1968_Tome_II2_Part_12.txt',\n",
      "     'Bxl_1969_Tome_RptAn_Part_5.txt',\n",
      "     'Bxl_1969_Tome_RptAn_Part_6.txt',\n",
      "     'Bxl_1969_Tome_RptAn_Part_7.txt'],\n",
      " 5: ['Bxl_1968_Tome_I1_Part_6.txt',\n",
      "     'Bxl_1968_Tome_I1_Part_7.txt',\n",
      "     'Bxl_1968_Tome_I1_Part_8.txt',\n",
      "     'Bxl_1968_Tome_I2_Part_1.txt',\n",
      "     'Bxl_1968_Tome_I2_Part_2.txt',\n",
      "     'Bxl_1968_Tome_I2_Part_3.txt',\n",
      "     'Bxl_1968_Tome_I2_Part_4.txt',\n",
      "     'Bxl_1968_Tome_I2_Part_5.txt',\n",
      "     'Bxl_1968_Tome_I2_Part_6.txt',\n",
      "     'Bxl_1968_Tome_I2_Part_7.txt',\n",
      "     'Bxl_1968_Tome_II1_Part_2.txt',\n",
      "     'Bxl_1968_Tome_II2_Part_2.txt',\n",
      "     'Bxl_1968_Tome_II2_Part_3.txt',\n",
      "     'Bxl_1968_Tome_II2_Part_4.txt',\n",
      "     'Bxl_1969_Tome_RptAn_Part_1.txt',\n",
      "     'Bxl_1969_Tome_RptAn_Part_4.txt'],\n",
      " 6: ['Bxl_1960_Tome_II1_Part_1.txt',\n",
      "     'Bxl_1960_Tome_II1_Part_2.txt',\n",
      "     'Bxl_1960_Tome_II1_Part_4.txt',\n",
      "     'Bxl_1960_Tome_II1_Part_7.txt',\n",
      "     'Bxl_1960_Tome_I_Part_2.txt',\n",
      "     'Bxl_1961_Tome_II1_Part_1.txt',\n",
      "     'Bxl_1961_Tome_II1_Part_2.txt',\n",
      "     'Bxl_1961_Tome_II1_Part_3.txt',\n",
      "     'Bxl_1961_Tome_II1_Part_5.txt',\n",
      "     'Bxl_1961_Tome_II1_Part_7.txt',\n",
      "     'Bxl_1961_Tome_I_Part_1.txt',\n",
      "     'Bxl_1961_Tome_I_Part_10.txt',\n",
      "     'Bxl_1962_Tome_II1_Part_2.txt',\n",
      "     'Bxl_1962_Tome_II1_Part_5.txt',\n",
      "     'Bxl_1962_Tome_II1_Part_6.txt',\n",
      "     'Bxl_1962_Tome_II1_Part_7.txt',\n",
      "     'Bxl_1962_Tome_II1_Part_8.txt',\n",
      "     'Bxl_1962_Tome_II2_Part_1.txt',\n",
      "     'Bxl_1962_Tome_II2_Part_7.txt',\n",
      "     'Bxl_1962_Tome_I_Part_2.txt',\n",
      "     'Bxl_1963_Tome_II1_Part_2.txt',\n",
      "     'Bxl_1963_Tome_II1_Part_3.txt',\n",
      "     'Bxl_1963_Tome_II1_Part_4.txt',\n",
      "     'Bxl_1963_Tome_I_Part_2.txt',\n",
      "     'Bxl_1963_Tome_I_Part_3.txt',\n",
      "     'Bxl_1964_Tome_II1_Part_1.txt',\n",
      "     'Bxl_1964_Tome_II1_Part_10.txt',\n",
      "     'Bxl_1964_Tome_II1_Part_2.txt',\n",
      "     'Bxl_1964_Tome_II1_Part_3.txt',\n",
      "     'Bxl_1964_Tome_I_Part_1.txt',\n",
      "     'Bxl_1964_Tome_I_Part_13.txt',\n",
      "     'Bxl_1964_Tome_I_Part_3.txt',\n",
      "     'Bxl_1964_Tome_I_Part_5.txt',\n",
      "     'Bxl_1965_Tome_II1_Part_3.txt',\n",
      "     'Bxl_1965_Tome_II1_Part_6.txt',\n",
      "     'Bxl_1965_Tome_II1_Part_8.txt',\n",
      "     'Bxl_1965_Tome_II2_Part_4.txt',\n",
      "     'Bxl_1965_Tome_I_Part_5.txt'],\n",
      " 7: ['Bxl_1968_Tome_II1_Part_3.txt',\n",
      "     'Bxl_1968_Tome_II1_Part_4.txt',\n",
      "     'Bxl_1969_Tome_I1_Part_1.txt',\n",
      "     'Bxl_1969_Tome_I1_Part_2.txt',\n",
      "     'Bxl_1969_Tome_I1_Part_3.txt',\n",
      "     'Bxl_1969_Tome_I1_Part_4.txt',\n",
      "     'Bxl_1969_Tome_I1_Part_5.txt',\n",
      "     'Bxl_1969_Tome_I1_Part_6.txt',\n",
      "     'Bxl_1969_Tome_I1_Part_7.txt',\n",
      "     'Bxl_1969_Tome_I1_Part_8.txt',\n",
      "     'Bxl_1969_Tome_I2_Part_1.txt',\n",
      "     'Bxl_1969_Tome_I2_Part_2.txt',\n",
      "     'Bxl_1969_Tome_I2_Part_4.txt',\n",
      "     'Bxl_1969_Tome_I2_Part_5.txt',\n",
      "     'Bxl_1969_Tome_I2_Part_6.txt',\n",
      "     'Bxl_1969_Tome_I2_Part_7.txt',\n",
      "     'Bxl_1969_Tome_I2_Part_8.txt',\n",
      "     'Bxl_1969_Tome_II1_Part_1.txt',\n",
      "     'Bxl_1969_Tome_II1_Part_2.txt',\n",
      "     'Bxl_1969_Tome_II1_Part_3.txt',\n",
      "     'Bxl_1969_Tome_II1_Part_4.txt',\n",
      "     'Bxl_1969_Tome_II1_Part_5.txt',\n",
      "     'Bxl_1969_Tome_II1_Part_6.txt',\n",
      "     'Bxl_1969_Tome_II1_Part_7.txt',\n",
      "     'Bxl_1969_Tome_II1_Part_8.txt',\n",
      "     'Bxl_1969_Tome_II2_Part_1.txt',\n",
      "     'Bxl_1969_Tome_II2_Part_10.txt',\n",
      "     'Bxl_1969_Tome_II2_Part_11.txt',\n",
      "     'Bxl_1969_Tome_II2_Part_2.txt',\n",
      "     'Bxl_1969_Tome_II2_Part_3.txt',\n",
      "     'Bxl_1969_Tome_II2_Part_4.txt',\n",
      "     'Bxl_1969_Tome_II2_Part_6.txt',\n",
      "     'Bxl_1969_Tome_II2_Part_7.txt',\n",
      "     'Bxl_1969_Tome_II2_Part_8.txt',\n",
      "     'Bxl_1969_Tome_II2_Part_9.txt'],\n",
      " 8: ['Bxl_1960_Tome_RptAn_Part_2.txt',\n",
      "     'Bxl_1960_Tome_RptAn_Part_3.txt',\n",
      "     'Bxl_1960_Tome_RptAn_Part_8.txt',\n",
      "     'Bxl_1961_Tome_RptAn_Part_8.txt',\n",
      "     'Bxl_1962_Tome_RptAn_Part_2.txt',\n",
      "     'Bxl_1962_Tome_RptAn_Part_3.txt',\n",
      "     'Bxl_1962_Tome_RptAn_Part_8.txt',\n",
      "     'Bxl_1963_Tome_RptAn_Part_3.txt',\n",
      "     'Bxl_1963_Tome_RptAn_Part_4.txt',\n",
      "     'Bxl_1963_Tome_RptAn_Part_5.txt',\n",
      "     'Bxl_1963_Tome_RptAn_Part_7.txt',\n",
      "     'Bxl_1964_Tome_RptAn_Part_2.txt',\n",
      "     'Bxl_1964_Tome_RptAn_Part_3.txt',\n",
      "     'Bxl_1964_Tome_RptAn_Part_4.txt',\n",
      "     'Bxl_1964_Tome_RptAn_Part_6.txt',\n",
      "     'Bxl_1965_Tome_RptAn_Part_2.txt',\n",
      "     'Bxl_1965_Tome_RptAn_Part_3.txt',\n",
      "     'Bxl_1966_Tome_RptAn_Part_2.txt',\n",
      "     'Bxl_1966_Tome_RptAn_Part_3.txt',\n",
      "     'Bxl_1969_Tome_RptAn_Part_2.txt'],\n",
      " 9: ['Bxl_1963_Tome_II1_Part_8.txt',\n",
      "     'Bxl_1963_Tome_II1_Part_9.txt',\n",
      "     'Bxl_1964_Tome_II2_Part_7.txt',\n",
      "     'Bxl_1964_Tome_II2_Part_9.txt',\n",
      "     'Bxl_1965_Tome_II2_Part_1.txt',\n",
      "     'Bxl_1965_Tome_II2_Part_2.txt',\n",
      "     'Bxl_1965_Tome_II2_Part_3.txt',\n",
      "     'Bxl_1966_Tome_I1_Part_8.txt',\n",
      "     'Bxl_1966_Tome_II2_Part_1.txt',\n",
      "     'Bxl_1967_Tome_I1_Part_7.txt',\n",
      "     'Bxl_1967_Tome_II2_Part_1.txt',\n",
      "     'Bxl_1967_Tome_II2_Part_2.txt',\n",
      "     'Bxl_1968_Tome_I1_Part_5.txt',\n",
      "     'Bxl_1968_Tome_II2_Part_8.txt',\n",
      "     'Bxl_1968_Tome_II2_Part_9.txt',\n",
      "     'Bxl_1969_Tome_II2_Part_5.txt'],\n",
      " 10: ['Bxl_1960_Tome_RptAn_Part_1.txt',\n",
      "      'Bxl_1961_Tome_RptAn_Part_1.txt',\n",
      "      'Bxl_1962_Tome_RptAn_Part_1.txt',\n",
      "      'Bxl_1963_Tome_RptAn_Part_1.txt',\n",
      "      'Bxl_1964_Tome_RptAn_Part_1.txt',\n",
      "      'Bxl_1965_Tome_RptAn_Part_1.txt',\n",
      "      'Bxl_1966_Tome_RptAn_Part_1.txt'],\n",
      " 11: ['Bxl_1960_Tome_I_Part_7.txt',\n",
      "      'Bxl_1961_Tome_I_Part_8.txt',\n",
      "      'Bxl_1962_Tome_I_Part_10.txt',\n",
      "      'Bxl_1962_Tome_I_Part_9.txt',\n",
      "      'Bxl_1963_Tome_I_Part_8.txt',\n",
      "      'Bxl_1963_Tome_I_Part_9.txt',\n",
      "      'Bxl_1964_Tome_I_Part_10.txt',\n",
      "      'Bxl_1964_Tome_I_Part_9.txt',\n",
      "      'Bxl_1965_Tome_I_Part_10.txt',\n",
      "      'Bxl_1965_Tome_I_Part_11.txt',\n",
      "      'Bxl_1966_Tome_I1_Part_2.txt',\n",
      "      'Bxl_1966_Tome_I1_Part_3.txt',\n",
      "      'Bxl_1966_Tome_II1_Part_10.txt',\n",
      "      'Bxl_1966_Tome_II1_Part_9.txt',\n",
      "      'Bxl_1967_Tome_II1_Part_7.txt'],\n",
      " 12: ['Bxl_1967_Tome_I2_Part_10.txt',\n",
      "      'Bxl_1968_Tome_I2_Part_8.txt',\n",
      "      'Bxl_1968_Tome_I2_Part_9.txt',\n",
      "      'Bxl_1968_Tome_II1_Part_8.txt',\n",
      "      'Bxl_1968_Tome_II1_Part_9.txt',\n",
      "      'Bxl_1969_Tome_I2_Part_10.txt',\n",
      "      'Bxl_1969_Tome_I2_Part_9.txt',\n",
      "      'Bxl_1969_Tome_II2_Part_12.txt',\n",
      "      'Bxl_1969_Tome_II2_Part_13.txt'],\n",
      " 13: ['Bxl_1962_Tome_II1_Part_3.txt',\n",
      "      'Bxl_1963_Tome_II1_Part_5.txt',\n",
      "      'Bxl_1963_Tome_II1_Part_6.txt',\n",
      "      'Bxl_1963_Tome_II2_Part_10.txt',\n",
      "      'Bxl_1963_Tome_II2_Part_8.txt',\n",
      "      'Bxl_1964_Tome_II1_Part_6.txt',\n",
      "      'Bxl_1965_Tome_II2_Part_10.txt',\n",
      "      'Bxl_1965_Tome_II2_Part_11.txt',\n",
      "      'Bxl_1965_Tome_II2_Part_9.txt',\n",
      "      'Bxl_1966_Tome_I1_Part_1.txt',\n",
      "      'Bxl_1966_Tome_I1_Part_10.txt',\n",
      "      'Bxl_1966_Tome_I1_Part_4.txt',\n",
      "      'Bxl_1966_Tome_I1_Part_6.txt',\n",
      "      'Bxl_1966_Tome_I1_Part_9.txt',\n",
      "      'Bxl_1966_Tome_I2_Part_4.txt',\n",
      "      'Bxl_1966_Tome_I2_Part_7.txt',\n",
      "      'Bxl_1966_Tome_I2_Part_8.txt',\n",
      "      'Bxl_1966_Tome_I2_Part_9.txt',\n",
      "      'Bxl_1966_Tome_II1_Part_3.txt',\n",
      "      'Bxl_1966_Tome_II1_Part_4.txt',\n",
      "      'Bxl_1966_Tome_II1_Part_5.txt',\n",
      "      'Bxl_1966_Tome_II1_Part_6.txt',\n",
      "      'Bxl_1966_Tome_II1_Part_7.txt',\n",
      "      'Bxl_1966_Tome_II2_Part_11.txt',\n",
      "      'Bxl_1966_Tome_II2_Part_12.txt',\n",
      "      'Bxl_1966_Tome_II2_Part_2.txt',\n",
      "      'Bxl_1966_Tome_II2_Part_6.txt',\n",
      "      'Bxl_1966_Tome_II2_Part_8.txt',\n",
      "      'Bxl_1967_Tome_I1_Part_10.txt',\n",
      "      'Bxl_1967_Tome_I1_Part_5.txt',\n",
      "      'Bxl_1967_Tome_I1_Part_6.txt',\n",
      "      'Bxl_1967_Tome_I1_Part_8.txt',\n",
      "      'Bxl_1967_Tome_I1_Part_9.txt',\n",
      "      'Bxl_1967_Tome_I2_Part_1.txt',\n",
      "      'Bxl_1967_Tome_I2_Part_3.txt',\n",
      "      'Bxl_1967_Tome_I2_Part_4.txt',\n",
      "      'Bxl_1967_Tome_I2_Part_5.txt',\n",
      "      'Bxl_1967_Tome_I2_Part_6.txt',\n",
      "      'Bxl_1967_Tome_I2_Part_7.txt',\n",
      "      'Bxl_1967_Tome_II1_Part_10.txt',\n",
      "      'Bxl_1967_Tome_II1_Part_9.txt',\n",
      "      'Bxl_1967_Tome_II2_Part_8.txt',\n",
      "      'Bxl_1968_Tome_I1_Part_3.txt'],\n",
      " 14: ['Bxl_1960_Tome_RptAn_Part_4.txt',\n",
      "      'Bxl_1960_Tome_RptAn_Part_5.txt',\n",
      "      'Bxl_1960_Tome_RptAn_Part_6.txt',\n",
      "      'Bxl_1960_Tome_RptAn_Part_7.txt',\n",
      "      'Bxl_1960_Tome_RptAn_Part_9.txt',\n",
      "      'Bxl_1961_Tome_RptAn_Part_4.txt',\n",
      "      'Bxl_1961_Tome_RptAn_Part_6.txt',\n",
      "      'Bxl_1961_Tome_RptAn_Part_7.txt',\n",
      "      'Bxl_1962_Tome_RptAn_Part_4.txt',\n",
      "      'Bxl_1962_Tome_RptAn_Part_5.txt',\n",
      "      'Bxl_1962_Tome_RptAn_Part_6.txt',\n",
      "      'Bxl_1962_Tome_RptAn_Part_7.txt',\n",
      "      'Bxl_1963_Tome_RptAn_Part_6.txt',\n",
      "      'Bxl_1964_Tome_RptAn_Part_5.txt',\n",
      "      'Bxl_1969_Tome_RptAn_Part_3.txt']}\n"
     ]
    }
   ],
   "source": [
    "pprint(dict(clustering))"
   ]
  },
  {
   "cell_type": "code",
   "execution_count": 89,
   "id": "1db319f2-8016-4179-b44a-953a816c6ddc",
   "metadata": {},
   "outputs": [],
   "source": [
    "pca = PCA(n_components=2)\n",
    "reduced_vectors = pca.fit_transform(tfidf_vectors.toarray())"
   ]
  },
  {
   "cell_type": "code",
   "execution_count": 90,
   "id": "3877eaa9-b90b-47d6-9e16-8196f77568bd",
   "metadata": {},
   "outputs": [
    {
     "data": {
      "text/plain": [
       "array([[-0.38270966, -0.30286696],\n",
       "       [-0.46021328, -0.36440005],\n",
       "       [-0.04160243,  0.0774633 ],\n",
       "       [-0.42760853, -0.33991019],\n",
       "       [-0.2379418 , -0.10347185],\n",
       "       [-0.10847638, -0.04634006],\n",
       "       [-0.26295808, -0.1985542 ],\n",
       "       [-0.30964975, -0.15191113],\n",
       "       [-0.08372331, -0.01568695],\n",
       "       [-0.09278885,  0.02180836],\n",
       "       [-0.14441361, -0.00681412],\n",
       "       [-0.14286115, -0.05765109]])"
      ]
     },
     "execution_count": 90,
     "metadata": {},
     "output_type": "execute_result"
    }
   ],
   "source": [
    "reduced_vectors[:12]"
   ]
  },
  {
   "cell_type": "code",
   "execution_count": 91,
   "id": "f18ebd34-a8df-453a-aad6-3a9e23af7f0b",
   "metadata": {},
   "outputs": [
    {
     "data": {
      "text/plain": [
       "<matplotlib.legend.Legend at 0x7fe1424336a0>"
      ]
     },
     "execution_count": 91,
     "metadata": {},
     "output_type": "execute_result"
    },
    {
     "data": {
      "image/png": "[encoded data removed]",
      "text/plain": [
       "<Figure size 720x720 with 1 Axes>"
      ]
     },
     "metadata": {
      "needs_background": "light"
     },
     "output_type": "display_data"
    }
   ],
   "source": [
    "x_axis = reduced_vectors[:, 0]\n",
    "y_axis = reduced_vectors[:, 1]\n",
    "\n",
    "plt.figure(figsize=(10,10))\n",
    "scatter = plt.scatter(x_axis, y_axis, s=100, c=clusters)\n",
    "\n",
    "# Ajouter les centroïdes\n",
    "centroids = pca.transform(km_model.cluster_centers_)\n",
    "plt.scatter(centroids[:, 0], centroids[:, 1],  marker = \"x\", s=100, linewidths = 2, color='black')\n",
    "\n",
    "# Ajouter la légende\n",
    "plt.legend(handles=scatter.legend_elements()[0], labels=set(clusters), title=\"Clusters\")"
   ]
  },
  {
   "cell_type": "markdown",
   "id": "99b0dd28-9ca4-455b-934f-a6d31fd14d8f",
   "metadata": {},
   "source": [
    "#### Phrases segmentées"
   ]
  },
  {
   "cell_type": "code",
   "execution_count": 92,
   "id": "191032e6-874f-49ef-b944-cb2879a6387a",
   "metadata": {},
   "outputs": [],
   "source": [
    "import os\n",
    "import sys\n",
    "import nltk\n",
    "from nltk.tokenize import sent_tokenize"
   ]
  },
  {
   "cell_type": "code",
   "execution_count": 93,
   "id": "84c1aff6-d7ee-4316-afdf-d8858ec66ee8",
   "metadata": {},
   "outputs": [],
   "source": [
    "infile = \"../data/all.txt\"\n",
    "outfile = \"../data/sents.txt\""
   ]
  },
  {
   "cell_type": "code",
   "execution_count": 96,
   "id": "4a56ddde-7479-4348-9303-4b162ba4a547",
   "metadata": {},
   "outputs": [],
   "source": [
    "LIMIT = None"
   ]
  },
  {
   "cell_type": "code",
   "execution_count": 97,
   "id": "0b83f395-30ab-4301-8a55-922c5275ecd2",
   "metadata": {},
   "outputs": [
    {
     "name": "stdout",
     "output_type": "stream",
     "text": [
      "processing line 0/447060\n",
      "processing line 10000/447060\n",
      "processing line 20000/447060\n",
      "processing line 30000/447060\n",
      "processing line 40000/447060\n",
      "processing line 50000/447060\n",
      "processing line 60000/447060\n",
      "processing line 70000/447060\n",
      "processing line 80000/447060\n",
      "processing line 90000/447060\n",
      "processing line 100000/447060\n",
      "processing line 110000/447060\n",
      "processing line 120000/447060\n",
      "processing line 130000/447060\n",
      "processing line 140000/447060\n",
      "processing line 150000/447060\n",
      "processing line 160000/447060\n",
      "processing line 170000/447060\n",
      "processing line 180000/447060\n",
      "processing line 190000/447060\n",
      "processing line 200000/447060\n",
      "processing line 210000/447060\n",
      "processing line 220000/447060\n",
      "processing line 230000/447060\n",
      "processing line 240000/447060\n",
      "processing line 250000/447060\n",
      "processing line 260000/447060\n",
      "processing line 270000/447060\n",
      "processing line 280000/447060\n",
      "processing line 290000/447060\n",
      "processing line 300000/447060\n",
      "processing line 310000/447060\n",
      "processing line 320000/447060\n",
      "processing line 330000/447060\n",
      "processing line 340000/447060\n",
      "processing line 350000/447060\n",
      "processing line 360000/447060\n",
      "processing line 370000/447060\n",
      "processing line 380000/447060\n",
      "processing line 390000/447060\n",
      "processing line 400000/447060\n",
      "processing line 410000/447060\n",
      "processing line 420000/447060\n",
      "processing line 430000/447060\n",
      "processing line 440000/447060\n",
      "Done\n"
     ]
    }
   ],
   "source": [
    "with open(outfile, 'w', encoding=\"utf-8\") as output:\n",
    "    with open(infile, encoding=\"utf-8\", errors=\"backslashreplace\") as f:\n",
    "        content = f.readlines()\n",
    "        content = content[:LIMIT] if LIMIT is not None else content\n",
    "        n_lines = len(content)\n",
    "        for i, line in enumerate(content):\n",
    "            if i % 10000 == 0:\n",
    "                print(f'processing line {i}/{n_lines}')\n",
    "            sentences = sent_tokenize(line)\n",
    "            for sent in sentences:\n",
    "                output.write(sent + \"\\n\")\n",
    "print(\"Done\")"
   ]
  },
  {
   "cell_type": "markdown",
   "id": "42ca92cd-01cf-431b-a4b8-39866b70400f",
   "metadata": {},
   "source": [
    "#### Modèle Word Embeging"
   ]
  },
  {
   "cell_type": "code",
   "execution_count": 98,
   "id": "c92f60bd-cdbe-461c-bbed-67a501f584e9",
   "metadata": {},
   "outputs": [],
   "source": [
    "import sys\n",
    "\n",
    "from gensim.models.phrases import Phrases, Phraser\n",
    "from gensim.models import Word2Vec\n",
    "\n",
    "import nltk\n",
    "from nltk.tokenize import wordpunct_tokenize\n",
    "from unidecode import unidecode"
   ]
  },
  {
   "cell_type": "code",
   "execution_count": 99,
   "id": "351bc23c-b20f-497a-9ad8-e5fe7551e453",
   "metadata": {},
   "outputs": [],
   "source": [
    "class MySentences(object):\n",
    "    \"\"\"Tokenize and Lemmatize sentences\"\"\"\n",
    "    def __init__(self, filename):\n",
    "        self.filename = filename\n",
    "\n",
    "    def __iter__(self):\n",
    "        for line in open(self.filename, encoding='utf-8', errors=\"backslashreplace\"):\n",
    "            yield [unidecode(w.lower()) for w in wordpunct_tokenize(line)]"
   ]
  },
  {
   "cell_type": "code",
   "execution_count": 100,
   "id": "bb5003ca-8b33-48cc-8ada-1fac6d6e5ce2",
   "metadata": {},
   "outputs": [],
   "source": [
    "infile = f\"../data/sents.txt\"\n",
    "sentences = MySentences(infile)\n",
    "\n",
    "sentences = [sentence for sentence in sentences]"
   ]
  },
  {
   "cell_type": "code",
   "execution_count": 101,
   "id": "f8222778-d5ef-4d49-a9ed-835394a838da",
   "metadata": {},
   "outputs": [],
   "source": [
    "bigram_phrases = Phrases(sentences)"
   ]
  },
  {
   "cell_type": "code",
   "execution_count": 102,
   "id": "4b1c74eb-6088-46ea-9584-16c457157ee3",
   "metadata": {},
   "outputs": [
    {
     "data": {
      "text/plain": [
       "dict"
      ]
     },
     "execution_count": 102,
     "metadata": {},
     "output_type": "execute_result"
    }
   ],
   "source": [
    "type(bigram_phrases.vocab)"
   ]
  },
  {
   "cell_type": "code",
   "execution_count": 103,
   "id": "b1cea131-dc87-463e-8f74-e576d2ecb879",
   "metadata": {},
   "outputs": [
    {
     "data": {
      "text/plain": [
       "514921"
      ]
     },
     "execution_count": 103,
     "metadata": {},
     "output_type": "execute_result"
    }
   ],
   "source": [
    "len(bigram_phrases.vocab.keys())"
   ]
  },
  {
   "cell_type": "code",
   "execution_count": 146,
   "id": "891653d5-fda8-4b23-a3eb-e9313dcfcf50",
   "metadata": {},
   "outputs": [
    {
     "name": "stdout",
     "output_type": "stream",
     "text": [
      "presidence_de\n"
     ]
    }
   ],
   "source": [
    "key_ = list(bigram_phrases.vocab.keys())[300]\n",
    "print(key_)"
   ]
  },
  {
   "cell_type": "code",
   "execution_count": 147,
   "id": "cfdc9c7c-7622-4daf-8c28-f088f919daf9",
   "metadata": {},
   "outputs": [
    {
     "data": {
      "text/plain": [
       "199"
      ]
     },
     "execution_count": 147,
     "metadata": {},
     "output_type": "execute_result"
    }
   ],
   "source": [
    "bigram_phrases.vocab[key_]"
   ]
  },
  {
   "cell_type": "code",
   "execution_count": 148,
   "id": "134d1d15-ad4d-49f1-b3da-0021e792bd0e",
   "metadata": {},
   "outputs": [
    {
     "name": "stdout",
     "output_type": "stream",
     "text": [
      "CPU times: user 296 µs, sys: 48 µs, total: 344 µs\n",
      "Wall time: 359 µs\n"
     ]
    },
    {
     "data": {
      "text/plain": [
       "['il',\n",
       " 'est',\n",
       " 'donne_communication',\n",
       " 'd',\n",
       " \"'\",\n",
       " 'une',\n",
       " 'lettre',\n",
       " 'demm',\n",
       " '.',\n",
       " 'donies',\n",
       " ',',\n",
       " 'commandant',\n",
       " 'le',\n",
       " 'corps',\n",
       " 'des',\n",
       " 'pompiers',\n",
       " ',',\n",
       " 'et',\n",
       " 'adolphe',\n",
       " 'bartels',\n",
       " ',',\n",
       " 'accompagnant',\n",
       " 'l',\n",
       " \"'\",\n",
       " 'envoi',\n",
       " 'de',\n",
       " 'leur',\n",
       " 'brochure',\n",
       " 'relative',\n",
       " 'a',\n",
       " 'un',\n",
       " 'plan',\n",
       " 'd',\n",
       " \"'\",\n",
       " 'assurance']"
      ]
     },
     "execution_count": 148,
     "metadata": {},
     "output_type": "execute_result"
    }
   ],
   "source": [
    "%time bigram_phrases[sentences[80]]"
   ]
  },
  {
   "cell_type": "code",
   "execution_count": 107,
   "id": "d66bb83c-f854-4c20-83d1-07e0744a8215",
   "metadata": {},
   "outputs": [],
   "source": [
    "bigram_phraser = Phraser(phrases_model=bigram_phrases)"
   ]
  },
  {
   "cell_type": "code",
   "execution_count": 149,
   "id": "a7473e61-ca30-44b1-a53e-759fe157280e",
   "metadata": {},
   "outputs": [
    {
     "name": "stdout",
     "output_type": "stream",
     "text": [
      "CPU times: user 76 µs, sys: 12 µs, total: 88 µs\n",
      "Wall time: 91.6 µs\n"
     ]
    },
    {
     "data": {
      "text/plain": [
       "['il',\n",
       " 'est',\n",
       " 'donne_communication',\n",
       " 'd',\n",
       " \"'\",\n",
       " 'une',\n",
       " 'lettre',\n",
       " 'demm',\n",
       " '.',\n",
       " 'donies',\n",
       " ',',\n",
       " 'commandant',\n",
       " 'le',\n",
       " 'corps',\n",
       " 'des',\n",
       " 'pompiers',\n",
       " ',',\n",
       " 'et',\n",
       " 'adolphe',\n",
       " 'bartels',\n",
       " ',',\n",
       " 'accompagnant',\n",
       " 'l',\n",
       " \"'\",\n",
       " 'envoi',\n",
       " 'de',\n",
       " 'leur',\n",
       " 'brochure',\n",
       " 'relative',\n",
       " 'a',\n",
       " 'un',\n",
       " 'plan',\n",
       " 'd',\n",
       " \"'\",\n",
       " 'assurance']"
      ]
     },
     "execution_count": 149,
     "metadata": {},
     "output_type": "execute_result"
    }
   ],
   "source": [
    "%time bigram_phraser[sentences[80]]"
   ]
  },
  {
   "cell_type": "code",
   "execution_count": 150,
   "id": "4252e053-e7cf-40b8-b6b5-5ba7ca1f1c09",
   "metadata": {},
   "outputs": [],
   "source": [
    "trigram_phrases = Phrases(bigram_phraser[sentences])"
   ]
  },
  {
   "cell_type": "code",
   "execution_count": 151,
   "id": "45d35ac1-2b3e-4a41-8d60-e5e4f545674a",
   "metadata": {},
   "outputs": [],
   "source": [
    "trigram_phraser = Phraser(phrases_model=trigram_phrases)"
   ]
  },
  {
   "cell_type": "code",
   "execution_count": 152,
   "id": "4b42cc3e-c9c0-470e-8b74-0ba8753bf7be",
   "metadata": {},
   "outputs": [],
   "source": [
    "corpus = list(trigram_phraser[bigram_phraser[sentences]])"
   ]
  },
  {
   "cell_type": "code",
   "execution_count": 153,
   "id": "d4d18f66-4082-4492-a885-5daef05093ca",
   "metadata": {},
   "outputs": [
    {
     "name": "stdout",
     "output_type": "stream",
     "text": [
      "[['v', 'i', 'l', 'l', 'e', 'de'], ['bruxelles'], ['bulletin', 'ires', '8eanas'], ['dl', '!'], ['conseil'], ['communal'], ['annee'], ['1847', '.'], ['au'], ['ville', 'de', 'b', 'r', 'u', 'x', 'e', 'l', 'l', 'e', 's', '.'], ['bulletin'], ['conseil'], ['aes'], ['seances'], ['communal', '.'], ['annee'], ['1847', '.'], ['bruxelles', ','], ['imprimerie'], ['d', 'e', 'j', '.'], ['h', '.', 'b', 'r', 'i', 'a', 'r', 'd', ','], ['rite', 'n', 'e', 'u', 'v', 'e', ',', '3', '1', ',', 'faubourg', 'de', 'n', 'a', 'm', 'u', 'r', ','], ['1', '84', '8'], ['de', '!'], ['du', 'consei'], ['dibi'], ['e', '.', '-', 'communication'], ['conclusions', 'de', 'la', 'section', 'des'], ['du', 'nouvel_hospice', 'pour', 'les', 'av'], ['enraisonde', 'l', \"'\", 'absence', '&'], ['maladie', '.', 'le', 'conseil', 'ajourne'], ['leurs', 'de', 'pierre', 'el', 'marchai'], ['cles', 'des', 'taxes', 'communale', \"'\"], ['bieniaance', 'eldeseianv'], ['il', 'est', 'donne', 'communie', ';'], ['mandant', 'le', 'o', 'p', 'fa'], ['gnant', 'l', \"'\", 'envoi', 'de', 'leur', 'bn'], ['par', 'l', \"'\", 'etat', 'obligatoire', 'p'], ['secretariat', 'et', 'dtput', 'uf'], ['proposition', 'dan', '*', 'le', 'meme'], ['u', 'est', 'donne_lecture', 'd', \"'\", 't'], ['glissement', 'd', \"'\", 'un', 'marc', '!'], [\"'*\", 'royales', ',', 'rue', 'de', 'la', 'i', 'd', 'e', 'k'], [':'], [';'], ['i'], ['fai', 'phonnenr', 'de', 'to', '>>', '<<'], ['<<', 'terrains', 'reumsderb', '.\"'], ['^', 'par', 'une', 'combinaison', 'f'], ['sans', 'devoir', 'fe'], ['soit', 'dow'], ['ans', ','], ['un', 'marcs'], ['1'], ['s', 'u', 'r', 'l'], ['iraocs', '.'], ['^', 'w', 'metres', 'sur', '35', 'l', ';', 'n'], ['^', 'espourvica', '.', 'lem', 'ed', '<<'], ['l'], ['t'], ['a', 'r'], ['<<<<', 'lle5la', '<<'], ['compte'], ['des'], ['du', 'conseil'], ['de'], ['rendu'], ['seances'], ['communal'], ['bruxelles', '.'], ['seance', 'du', '9', 'janvier', '.'], ['(_presidence', 'de', 'm', '.', 'le', 'chevalier_w_y', 'n', 's', 'de', 'raucourt', ',', 'bourgmestre_.)'], ['sommaire', '.'], ['--', 'communication', 'de', 'pieces', '.'], ['--', 'discussion', 'et', 'adoption', 'des'], ['conclusions', 'de', 'la', 'section', 'des_travaux_publics', 'relatives', 'a', 'l', \"'\", 'emplacement'], ['du', 'nouvel_hospice', 'pour', 'les', 'aveugles', 'indigents', '.'], ['en', 'raison', 'de', 'l', \"'\", 'absence', 'de', 'm', '.', 'l', \"'\", 'echevin_doucet', ',', 'pour', 'cause', 'de'], ['maladie', ',', 'le', 'conseil', 'ajourne', 'l', \"'\", 'examen', 'de', 'la', 'reclamation', 'des', 'tailleurs', 'de', 'pierre', 'et', 'marchands', 'de', 'briques', ',', 'contre', 'quelques', 'articles', 'des_taxes_communales', ',', 'et', 'la', 'discussion', 'des', 'budgets', 'de', 'la'], ['bienfaisance', 'et', 'des', 'enfants', '-', 'trouves', '.'], ['il', 'est', 'donne_communication', 'd', \"'\", 'une', 'lettre', 'demm', '.', 'donies', ',', 'commandant', 'le', 'corps', 'des', 'pompiers', ',', 'et', 'adolphe', 'bartels', ',', 'accompagnant', 'l', \"'\", 'envoi', 'de', 'leur', 'brochure', 'relative', 'a', 'un', 'plan', 'd', \"'\", 'assurance'], ['par', 'l', \"'\", 'etat', 'obligatoire', 'pour', 'tous', 'les', 'proprietaires', '.'], ['--', 'depot', 'au'], ['secretariat', 'et', 'depot', 'sur', 'le', 'bureau', 'pendant', 'la', 'discussion', 'de', 'la'], ['proposition', 'dans', 'le', 'meme_sens', 'faite', 'par', 'm', '.', 'le', 'conseiller', 'bartels', '.'], ['il', 'est', 'donne_lecture', 'd', \"'\", 'une', 'lettre', 'de', 'm', '.', 'bortier', ',', 'relative', 'a', 'l', \"'\", 'etablissement', 'd', \"'\", 'un', 'marche', 'dans', 'l', \"'\", 'ancien_local', 'des', 'messageries'], ['royales', ',', 'rue', 'de', 'la', 'madeleine', '.'], ['elle', 'est', 'ainsi_concue', ':'], ['<<', 'j', \"'\", 'ai', 'l', \"'\", 'honneur', 'de', 'vous_adresser', 'un', 'plan', 'de', 'marche_couvert', 'a', 'etablir'], ['sur', 'les', 'terrains', 'reunis', 'de', 'l', \"'\", 'hotel', 'des', 'messageries', ',', 'des', 'hospices', 'et', 'de', 'm', '.', 'partoes', '.'], ['par', 'une', 'combinaison', 'financiere', 'que_je_viens', 'vous_soumettre', ',', 'la', 'ville'], ['de', 'bruxelles', ',', 'sans', 'devoir', 'faire', 'la', 'moindre', 'avance', 'de', 'fonds', ',', 'soit', 'pour', 'acquisitions', 'de', 'terrains', ',', 'soit', 'pour', 'constructions', ',', 'deviendrait', ',', 'au_bout', 'de', 'vingt'], ['ans', ',', 'proprietaire', 'd', \"'\", 'un', 'marche', 'dont', 'le', 'produit', 'est', 'evalue', 'a', 'plus', 'de', 'soixante'], ['mille_francs', '.'], ['<<', 'avant', 'la', 'mise_en', 'possession', 'de', 'ce', 'vaste', 'terrain', 'ayant', 'un', 'developpement'], ['de', 'go', 'metres', 'sur', '33', ',', 'la', 'ville', 'pourrait', 'faire', 'construire', 'au', 'premier_etage', 'des'], ['salles', 'pour', 'l', \"'\", 'academie', 'des', 'beaux_-_arts', '.'], ['<<', '11', 'suffira', 'de', 'jeter', 'un', 'regard', 'sur', 'le', 'plan', 'et', 'd', \"'\", 'examiner', 'les', 'chiffres', 'qui'], ['figurent', 'dans', 'l', \"'\", 'expose', ',', 'pour', 'comprendre', 'tous', 'les', 'avantages', 'que', 'presente', 'a'], ['la', 'ville', 'de', 'bruxelles', 'la', 'realisation', 'de', 'ce', 'projet', '.'], ['<<', 'en', 'renvoyant', 'le', 'plan', 'a', 'la', 'commission', 'des_travaux_publics', ',', 'je_viens', 'vous'], ['prier', ',', 'messieurs', ',', 'de', 'vouloir_bien', 'demander', 'qu', \"'\", 'un', 'rapport', 'soit', 'fait', 'immediatement', ':', 'un', 'contrat', 'me', 'lie', 'avec', 'l', \"'\", 'administration', 'des', 'hospices', '5', 'avant', 'le'], ['--', '2', '--'], ['t', 'fevrier', 'j', \"'\", 'ai', 'a', 'me', 'decider', 'sur', 'l', \"'\", 'acceptation', 'de', 'plusieurs_lots', 'de', 'terrains'], ['ie', 'duquesnoy', '.'], ['11', 'est', 'donc', 'indispensable', 'que', 'la', 'ville', 'me', 'fasse', 'connaitre', 'sa'], ['vision', 'avant', 'la', 'fin', 'du', 'mois', ',', 'sinon', 'ma_proposition', 'devra_etre', 'consideree'], ['imrac', 'non', 'avenue', '.'], ['i', 'l', 'est', 'donne', 'ensuite', 'lecture', 'de', 'l', \"'\", 'expose', 'financier', 'de', 'l', \"'\", 'affaire', ','], ['dt', 'par', 'm', '.', 'bortier', 'dans', 'les', 'termes', 'suivans_:'], ['e', 'v', 'a', 'l', 'u', 'a', 't', 'i', 'o', 'n', 'des', 't', 'e', 'r', 'r', 'a', 'i', 'n', 's', ',', 'constructions', 'de', 'caves', 'e', 't', 'hangars', '.'], ['hotel', 'des', 'messageries', ',', 'calcule', 'sur', 'un', 'revenu', 'qui', 'a', 'ete', 'de', '12', ',', '000', 'f', 'r', '.'], [',', 'soit'], ['00', ',', '000', 'f', 'r', '.'], [';', 'a', 'deduire', 'de', 'cette_somme', 'la', 'valeur', 'de', 'deux', 'maisons', 'louees'], [',', '000', 'f', 'r', '.'], [',', 'soit', '120', ',', '000_fr_.,', 'y_compris', 'les', 'batimens', 'dans', 'la', 'cour', 'fr', '.'], ['180', ',', '000'], ['terrains_achetes', 'a', 'l', \"'\", 'administration', 'des', 'hospices', '(', 'p', 'r', 'i', 'x'], ['rachat', ')'], ['28', ',', '000'], ['terrains_achetes', 'conditionnellement', 'a', 'la', 'meme', 'administraion', '(', 'prix', 'd', \"'\", 'achat', ')'], ['88', ',', '000'], ['terrain', 'a', 'm', '.'], ['partoes'], ['10', ',', '000'], ['constructions', 'de', 'caves', 'et', 'hangars', ',', 'p', 'r', 'i', 'x', '5', 'etablir', 'lors', 'de'], [\"'\", 'adjudication_publique', '(', 'devis', ')'], ['60', ',', '000'], ['total'], ['f', 'r', '.'], ['366', ',', '000'], ['produit', 'du', 'm', 'a', 'r', 'c', 'h', 'e', '.'], ['1', ',', '250', 'metres', 'de', 'surface', ',', 'a', '10_centimes', 'par', 'metre', 'et', 'pendant', '311', 'jours', 'de'], ['l', \"'\", 'annee', ',', 'donnent', 'un', 'produit', 'de'], ['f', 'r', '.'], ['38', ',', '875'], ['1', ',', '875', 'metres', 'de', 'caves', ',', 'a', '5', 'centimes', 'par', 'metre', 'et', 'demi', ',', 'pendant', '311', 'jours'], ['23', ',', '325'], ['total'], ['f', 'r', '.'], ['62', ',', '200'], ['n', '.', 'b', '.'], ['a', 'paris', ',', 'au', 'marche', 'de', 'la', 'madeleine', ',', 'ou', 'le', 'p', 'r', 'i', 'x', 'de', 'location', 'est'], ['inferieur', 'a', 'celui', 'de', 'quatre', 'autres', 'marches', ',', 'le', 'metre', 'de', 'surface', 'est', 'loue', 'a'], ['raison', 'de', '25_centimes', 'par', 'j', 'o', 'u', 'r', ',', 'dimanches', 'et', 'fetes', 'compris', '.'], ['de', 'tous', 'les'], ['marches', 'de', 'p', 'a', 'r', 'i', 's', ',', 'le', 'marche', 'saint_-_joseph', 'est', 'celui', 'ou', 'le', 'p', 'r', 'i', 'x', 'de', 'location'], ['est', 'le', 'plus', 'eleve', ':', 'i', 'l', 'y', 'a', 'des', 'places', 'qui', 'se', 'louent', 'jusqu', \"'\", 'a', '6', 'f', 'r', '.'], ['les', '4', 'metres', '.'], ['depenses', '.'], ['interets', 'sur', '366', ',', '000', 'f', 'r', '.'], [',', 'a', '4', '1', '/_2', 'p', '.'], ['c', '.'], ['amortissement'], ['solde', 'en', 'benefice'], ['.'], ['.'], ['total', '.'], ['f', 'r', '.'], ['16', ',', '470'], ['20', ',', '000'], ['25', ',', '730'], ['f', 'r', '.'], ['62', ',', '200'], ['recettes', '.'], ['location', 'du', 'marche', 'de', 'la', 'madeleine', '.'], ['total'], ['.'], ['.'], ['f', 'r', '.'], ['62', ',', '200'], ['f', 'r', '.'], ['62', ',', '200'], ['solde', 'en', 'benefice', ',', 'l', 'e', 'annee'], ['r'], ['f', 'r', '.'], ['25', ',', '730'], ['resume', '.'], ['la', 'ville', 'de', 'bruxelles', ',', 'des', 'la', 'premiere', 'annee', ',', 'percevrait', ',', 'deduction_faite'], ['des', 'interets', 'et', 'de', 'l', \"'\", 'amortissement', ',', 'la', 'somme', 'de', '25', ',', '080', 'f', 'r', '.'], [';', 'le', 'produit', 'du'], ['marche', 'augmenterait', 'tous', 'les', 'ans', 'dans', 'la', 'proportion', 'de', 'la', 'reduction', 'du'], ['capital', 'q', 'u', 'i', ',', 'par', 'l', \"'\", 'amortissement', 'annuel', 'de', '20', ',', '000', 'f', 'r', '.'], [',', 'se_trouvera', 'eteint'], ['en', '18', 'ou', '19', 'ans', '.'], ['en', '1867', ',', 'l', 'a', 'ville', 'de', 'bruxelles', 'deviendrait', 'proprietaire'], ['d', \"'\", 'un', 'marche', 'produisant', 'plus', 'de', 'soixante', 'mille_francs', '.'], ['--'], ['3'], ['--'], ['proposition', 'de', 'm', '.'], ['bortier', 'est', 'renvoyee', 'a'], ['sections', 'des_travaux_publics', 'et', 'des', 'finances', ',', 'avec'], ['la'], ['l', \"'\", 'examen', 'des'], ['demande', 'd', \"'\", 'un'], ['prompt', 'rapport', '.'], ['m', '.', 'le', 'secretaire_donne_lecture', 'd', 'u', 'rapport', 'de', 'l', 'a', 'section', 'des'], ['travaux_publics', 'sur', 'l', \"'\", 'emplacement', 'de', 'l', \"'\", 'hospice', 'projete', 'pour', 'les']]\n"
     ]
    }
   ],
   "source": [
    "print(corpus[:200])"
   ]
  },
  {
   "cell_type": "code",
   "execution_count": 154,
   "id": "757339b3-c358-4700-ac78-eb5bf9fad302",
   "metadata": {},
   "outputs": [
    {
     "name": "stdout",
     "output_type": "stream",
     "text": [
      "CPU times: user 28.1 s, sys: 1.27 s, total: 29.3 s\n",
      "Wall time: 14.4 s\n"
     ]
    }
   ],
   "source": [
    "%%time\n",
    "model = Word2Vec(\n",
    "    corpus, # On passe le corpus de ngrams que nous venons de créer\n",
    "    vector_size=32, # Le nombre de dimensions dans lesquelles le contexte des mots devra être réduit, aka. vector_size\n",
    "    window=10, # La taille du \"contexte\", ici 10 mots avant et après le mot observé\n",
    "    min_count=8, # On ignore les mots qui n'apparaissent pas au moins 8 fois dans le corpus\n",
    "    workers=4, # Permet de paralléliser l'entraînement du modèle en 4 threads\n",
    "    epochs=5 # Nombre d'itérations du réseau de neurones sur le jeu de données pour ajuster les paramètres avec la descende de gradient, aka. epochs.\n",
    ")"
   ]
  },
  {
   "cell_type": "code",
   "execution_count": 155,
   "id": "b64e48a5-f422-4beb-9fe6-67bd156d2e7c",
   "metadata": {},
   "outputs": [],
   "source": [
    "outfile = f\"../data/bulletins.model\"\n",
    "model.save(outfile)"
   ]
  },
  {
   "cell_type": "code",
   "execution_count": 156,
   "id": "d74b6a70-055a-4f06-9633-9759e4a7d979",
   "metadata": {},
   "outputs": [],
   "source": [
    "model = Word2Vec.load(\"../data/bulletins.model\")"
   ]
  },
  {
   "cell_type": "code",
   "execution_count": 157,
   "id": "91b35ddc-ba24-44eb-b294-e72e17448120",
   "metadata": {},
   "outputs": [
    {
     "data": {
      "text/plain": [
       "array([-0.07121358, -0.74078065,  0.04386743, -0.96170455,  0.33165693,\n",
       "        0.9718457 ,  0.53427   , -0.81537825, -0.18367888,  0.5603393 ,\n",
       "       -0.04243317,  0.39534187, -0.6431899 , -0.17013489, -0.62906593,\n",
       "       -0.47471893,  0.19450623,  1.1592127 ,  0.2673642 , -0.09526157,\n",
       "       -0.4521299 , -0.6396313 ,  0.16289917,  0.79392225, -0.3236809 ,\n",
       "       -0.59905463, -0.58391976,  0.29890564, -0.04670095,  0.16989094,\n",
       "       -0.85520023,  0.4054909 ], dtype=float32)"
      ]
     },
     "execution_count": 157,
     "metadata": {},
     "output_type": "execute_result"
    }
   ],
   "source": [
    "model.wv[\"communal\"]"
   ]
  },
  {
   "cell_type": "code",
   "execution_count": 158,
   "id": "e16c7d16-1525-423e-a230-10c5083884e9",
   "metadata": {},
   "outputs": [
    {
     "data": {
      "text/plain": [
       "0.37746972"
      ]
     },
     "execution_count": 158,
     "metadata": {},
     "output_type": "execute_result"
    }
   ],
   "source": [
    "model.wv.similarity(\"commune\", \"communal\")"
   ]
  },
  {
   "cell_type": "code",
   "execution_count": 159,
   "id": "6e4cc3fc-57ce-4d90-883d-f649d6ac5aed",
   "metadata": {},
   "outputs": [
    {
     "data": {
      "text/plain": [
       "0.5697751"
      ]
     },
     "execution_count": 159,
     "metadata": {},
     "output_type": "execute_result"
    }
   ],
   "source": [
    "model.wv.similarity(\"conseil\", \"conseiller\")"
   ]
  },
  {
   "cell_type": "code",
   "execution_count": 160,
   "id": "7d055ba7-f072-46b1-af35-691a9de4cea9",
   "metadata": {},
   "outputs": [
    {
     "data": {
      "text/plain": [
       "0.34015968"
      ]
     },
     "execution_count": 160,
     "metadata": {},
     "output_type": "execute_result"
    }
   ],
   "source": [
    "model.wv.similarity(\"administration\", \"communal\")"
   ]
  },
  {
   "cell_type": "code",
   "execution_count": 161,
   "id": "a77b1055-a0a0-4b6f-8ab2-c4782ea5709d",
   "metadata": {},
   "outputs": [
    {
     "data": {
      "text/plain": [
       "[('je_prends', 0.8971489667892456),\n",
       " ('couteuse', 0.8789119124412537),\n",
       " ('resolument', 0.8739970922470093),\n",
       " ('excellent', 0.872668981552124),\n",
       " ('rectifier', 0.8705666661262512),\n",
       " ('mieux_vaudrait', 0.8702496290206909),\n",
       " ('triste', 0.8694406151771545),\n",
       " ('laissons', 0.865371823310852)]"
      ]
     },
     "execution_count": 161,
     "metadata": {},
     "output_type": "execute_result"
    }
   ],
   "source": [
    "model.wv.most_similar(\"financier\", topn=8)"
   ]
  },
  {
   "cell_type": "code",
   "execution_count": 162,
   "id": "45754a4a-5d28-4411-9674-8df95686dde9",
   "metadata": {},
   "outputs": [
    {
     "data": {
      "text/plain": [
       "[('conseil_communal', 0.7937808632850647),\n",
       " ('instance', 0.7829113602638245),\n",
       " ('inseree', 0.7674962282180786),\n",
       " ('conseil_provincial', 0.7651901245117188),\n",
       " ('libelle', 0.7608800530433655),\n",
       " ('consulter_avec', 0.7427012324333191),\n",
       " ('depose', 0.7337926030158997),\n",
       " ('procesverbal', 0.7247693538665771),\n",
       " ('27_octobre', 0.7236866354942322),\n",
       " ('beaulieu', 0.7211461067199707),\n",
       " ('budget_communal', 0.7190577387809753),\n",
       " ('brabant', 0.7169389724731445),\n",
       " ('approuve', 0.7165088057518005),\n",
       " ('college_echevinal', 0.7148104310035706),\n",
       " ('dresse', 0.7138791680335999),\n",
       " ('testateur', 0.7095401883125305),\n",
       " ('pourvoi', 0.7094168066978455),\n",
       " ('le_conseil_communal', 0.7090582847595215),\n",
       " ('provincial', 0.7070620059967041),\n",
       " ('contrat', 0.7057364583015442)]"
      ]
     },
     "execution_count": 162,
     "metadata": {},
     "output_type": "execute_result"
    }
   ],
   "source": [
    "model.wv.most_similar(\"communal\", topn=20)"
   ]
  },
  {
   "cell_type": "code",
   "execution_count": 163,
   "id": "a3c1b302-7fdc-4c66-9c34-054c894cc39e",
   "metadata": {},
   "outputs": [
    {
     "data": {
      "text/plain": [
       "[('commune', 0.8352209329605103),\n",
       " ('province', 0.7021770477294922),\n",
       " ('capitale', 0.6983414888381958),\n",
       " ('societe', 0.6737650036811829),\n",
       " ('hennessy', 0.6580584049224854),\n",
       " ('restauration', 0.6540626883506775),\n",
       " ('population', 0.6362079381942749),\n",
       " ('faculte', 0.6347213983535767),\n",
       " ('societe_generale', 0.6279077529907227),\n",
       " ('belgique', 0.6249281764030457),\n",
       " ('garnison', 0.619204580783844),\n",
       " ('tour', 0.6167994141578674),\n",
       " ('situation', 0.6162922382354736),\n",
       " ('banlieue', 0.6136622428894043),\n",
       " ('condition', 0.6127732396125793),\n",
       " ('duree', 0.6115177273750305),\n",
       " ('caisse_communale', 0.606036365032196),\n",
       " ('prosperite', 0.5964291095733643),\n",
       " ('salle', 0.5928523540496826),\n",
       " ('ferme', 0.5899807214736938),\n",
       " ('compagnie', 0.5899489521980286),\n",
       " ('messageries', 0.57857745885849),\n",
       " ('journee', 0.5779379606246948),\n",
       " ('reunion', 0.5776194930076599),\n",
       " ('chambre', 0.5758602619171143),\n",
       " ('souscription', 0.5721426010131836),\n",
       " ('horloge', 0.5698678493499756),\n",
       " ('disposition', 0.5667033791542053),\n",
       " ('bourse', 0.5634222030639648),\n",
       " ('moitie', 0.5632823705673218)]"
      ]
     },
     "execution_count": 163,
     "metadata": {},
     "output_type": "execute_result"
    }
   ],
   "source": [
    "model.wv.most_similar(\"ville\", topn=30)"
   ]
  },
  {
   "cell_type": "code",
   "execution_count": null,
   "id": "a3b4f94c-4b50-4a71-830f-1cf19784a14c",
   "metadata": {},
   "outputs": [],
   "source": []
  }
 ],
 "metadata": {
  "kernelspec": {
   "display_name": "Python 3 (ipykernel)",
   "language": "python",
   "name": "python3"
  },
  "language_info": {
   "codemirror_mode": {
    "name": "ipython",
    "version": 3
   },
   "file_extension": ".py",
   "mimetype": "text/x-python",
   "name": "python",
   "nbconvert_exporter": "python",
   "pygments_lexer": "ipython3",
   "version": "3.9.9"
  }
 },
 "nbformat": 4,
 "nbformat_minor": 5
}
